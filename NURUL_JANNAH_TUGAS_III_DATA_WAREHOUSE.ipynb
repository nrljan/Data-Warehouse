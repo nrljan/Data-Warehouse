{
 "cells": [
  {
   "cell_type": "markdown",
   "metadata": {},
   "source": [
    "# Tugas 3 Data Warehouse\n",
    "Nurul Jannah (11160940000080)"
   ]
  },
  {
   "cell_type": "code",
   "execution_count": 30,
   "metadata": {
    "scrolled": true
   },
   "outputs": [],
   "source": [
    "import psycopg2\n",
    "from psycopg2.extensions import ISOLATION_LEVEL_AUTOCOMMIT"
   ]
  },
  {
   "cell_type": "code",
   "execution_count": 31,
   "metadata": {},
   "outputs": [
    {
     "name": "stdout",
     "output_type": "stream",
     "text": [
      "Berhasil membuat database\n"
     ]
    }
   ],
   "source": [
    "#a Membuat database\n",
    "\n",
    "conn = psycopg2.connect(database = \"postgres\", user = \"postgres\", password = \"NurulNurul\", host = \"localhost\", port = \"5432\")\n",
    "cur = conn.cursor()\n",
    "\n",
    "dabes = \"kantor\"\n",
    "\n",
    "conn.set_isolation_level(ISOLATION_LEVEL_AUTOCOMMIT)\n",
    "cur = conn.cursor()\n",
    "\n",
    "cur.execute(\"CREATE DATABASE \" + dabes)\n",
    "print(\"Berhasil membuat database\")"
   ]
  },
  {
   "cell_type": "code",
   "execution_count": 32,
   "metadata": {},
   "outputs": [
    {
     "name": "stdout",
     "output_type": "stream",
     "text": [
      "Sukses membuka database\n",
      "Tabel berhasil dibuat\n"
     ]
    }
   ],
   "source": [
    "#b Membuat tabel Karyawan\n",
    "\n",
    "import psycopg2\n",
    "\n",
    "conn = psycopg2.connect(database = \"kantor\", user = \"postgres\", password = \"NurulNurul\", host = \"localhost\", port = \"5432\")\n",
    "cur = conn.cursor()\n",
    "\n",
    "print(\"Sukses membuka database\")\n",
    "\n",
    "cur.execute('''\n",
    "CREATE TABLE IF NOT EXISTS Karyawan\n",
    "(\n",
    "    Nomor_induk VARCHAR(10) PRIMARY KEY NOT NULL,\n",
    "    Nama VARCHAR(30) NOT NULL,\n",
    "    Alamat TEXT NOT NULL,\n",
    "    Tanggal_lahir DATE NOT NULL,\n",
    "    Tanggal_masuk DATE NOT NULL\n",
    ");\n",
    "''')\n",
    "\n",
    "conn.commit()\n",
    "print(\"Tabel berhasil dibuat\")"
   ]
  },
  {
   "cell_type": "code",
   "execution_count": 33,
   "metadata": {
    "scrolled": true
   },
   "outputs": [
    {
     "name": "stdout",
     "output_type": "stream",
     "text": [
      "Sukses membuka database\n",
      "Tabel berhasil dibuat\n"
     ]
    }
   ],
   "source": [
    "#b Membuat tabel Cuti Karyawan\n",
    "\n",
    "import psycopg2\n",
    "\n",
    "conn = psycopg2.connect(database = \"kantor\", user = \"postgres\", password = \"NurulNurul\", host = \"localhost\", port = \"5432\")\n",
    "cur = conn.cursor()\n",
    "\n",
    "print(\"Sukses membuka database\")\n",
    "\n",
    "cur.execute('''\n",
    "CREATE TABLE IF NOT EXISTS Cuti_Karyawan\n",
    "(\n",
    "    ID serial PRIMARY KEY NOT NULL,\n",
    "    Nomor_induk VARCHAR(10) NOT NULL\n",
    "    REFERENCES Karyawan(Nomor_induk),\n",
    "    Tanggal_mulai DATE NOT NULL,\n",
    "    Lama_cuti SMALLINT NOT NULL,\n",
    "    Keterangan TEXT NOT NULL\n",
    ");\n",
    "''')\n",
    "\n",
    "conn.commit()\n",
    "print(\"Tabel berhasil dibuat\")"
   ]
  },
  {
   "cell_type": "code",
   "execution_count": 35,
   "metadata": {},
   "outputs": [
    {
     "name": "stdout",
     "output_type": "stream",
     "text": [
      "Sukses membuka database\n",
      "Data tersimpan dengan baik\n"
     ]
    }
   ],
   "source": [
    "#c Mengisi tabel Karyawan\n",
    "\n",
    "import psycopg2\n",
    "\n",
    "conn = psycopg2.connect(database = \"kantor\", user = \"postgres\", password = \"NurulNurul\", host = \"localhost\", port = \"5432\")\n",
    "cur = conn.cursor()\n",
    "\n",
    "print(\"Sukses membuka database\")\n",
    "\n",
    "cur.execute('''\n",
    "INSERT INTO Karyawan (Nomor_induk, Nama, Alamat, Tanggal_lahir, Tanggal_masuk) VALUES\n",
    "('IP06001', 'Agus', 'Jln. Gajah Mada 115A, Jakarta Pusat', '1970-08-01', '2006-07-07'),\n",
    "('IP06002', 'Amin', 'Jln. Bungur Sari V No. 178, Bandung', '1977-05-03', '2006-07-07'),\n",
    "('IP06003', 'Yusuf', 'Jln. Yosodpuro 15, Surabaya', '1973-08-09', '2006-07-07'),\n",
    "('IP07004', 'Alyssa', 'Jln. Cendana No. 6 Bandung', '1983-02-14', '2007-01-05'),\n",
    "('IP07005', 'Maulana', 'Jln. Ampera Raya No. 1', '1985-10-10', '2007-02-05'),\n",
    "('IP07006', 'Afika', 'Jln. Pejaten Barat No. 6A', '1987-03-09', '2007-06-09'),\n",
    "('IP07007', 'James', 'Jln. Padjadjaran No. 111, Bandung', '1988-05-19', '2007-06-09'),\n",
    "('IP09008', 'Octavanus', 'Jln. Gajah Mada 101, Semarang', '1988-10-07', '2008-08-08'),\n",
    "('IP09009', 'Nugroho', 'Jln. Duren Tiga 196, Jakarta Selatan', '1988-01-20', '2008-11-11'),\n",
    "('IP090010', 'Raisa', 'Jln. Nangka Jakarta Selatan', '1989-12-29', '2009-02-09');\n",
    "''')\n",
    "\n",
    "conn.commit()\n",
    "print(\"Data tersimpan dengan baik\")"
   ]
  },
  {
   "cell_type": "code",
   "execution_count": 37,
   "metadata": {},
   "outputs": [
    {
     "name": "stdout",
     "output_type": "stream",
     "text": [
      "Sukses membuka database\n",
      "Data tersimpan dengan baik\n"
     ]
    }
   ],
   "source": [
    "#c Mengisi tabel Cuti Karyawan\n",
    "\n",
    "import psycopg2\n",
    "\n",
    "conn = psycopg2.connect(database = \"kantor\", user = \"postgres\", password = \"NurulNurul\", host = \"localhost\", port = \"5432\")\n",
    "cur = conn.cursor()\n",
    "\n",
    "print(\"Sukses membuka database\")\n",
    "\n",
    "cur.execute('''\n",
    "INSERT INTO Cuti_Karyawan (ID, Nomor_induk, Tanggal_mulai, Lama_cuti, Keterangan) VALUES\n",
    "(1, 'IP06001', '2012-02-01', 3, 'Acara Keluarga'),\n",
    "(2, 'IP06001', '2012-02-13', 2, 'Anak sakit'),\n",
    "(3, 'IP07007', '2012-02-15', 1, 'Nenek sakit'),\n",
    "(4, 'IP06003', '2012-02-17', 1, 'Mendaftar sekolah anak'),\n",
    "(5, 'IP07006', '2012-02-20', 5, 'Menikah'),\n",
    "(6, 'IP07004', '2012-02-27', 1, 'Imunisasi anak');\n",
    "''')\n",
    "\n",
    "conn.commit()\n",
    "print(\"Data tersimpan dengan baik\")"
   ]
  },
  {
   "cell_type": "code",
   "execution_count": 1,
   "metadata": {},
   "outputs": [
    {
     "name": "stdout",
     "output_type": "stream",
     "text": [
      "Sukses membuka database\n",
      "('IP06001', 'Agus', datetime.date(2006, 7, 7))\n",
      "('IP06003', 'Yusuf', datetime.date(2006, 7, 7))\n",
      "('IP06002', 'Amin', datetime.date(2006, 7, 7))\n",
      "('IP07004', 'Alyssa', datetime.date(2007, 1, 5))\n"
     ]
    }
   ],
   "source": [
    "#d Menentukan karyawan yang pertama kali masuk (bergabung)\n",
    "\n",
    "import psycopg2\n",
    "\n",
    "conn = psycopg2.connect(database = \"kantor\", user = \"postgres\", password = \"NurulNurul\", host = \"localhost\", port = \"5432\")\n",
    "cur = conn.cursor()\n",
    "\n",
    "print(\"Sukses membuka database\")\n",
    "\n",
    "cur.execute(\"SELECT Nomor_induk, Nama, Tanggal_masuk from KARYAWAN ORDER BY Tanggal_masuk ASC LIMIT 4\")\n",
    "data = cur.fetchall()\n",
    "for user in data :\n",
    "    print(user)"
   ]
  },
  {
   "cell_type": "code",
   "execution_count": 3,
   "metadata": {},
   "outputs": [
    {
     "name": "stdout",
     "output_type": "stream",
     "text": [
      "Sukses membuka database\n",
      "('IP090010', 'Raisa', datetime.date(2009, 2, 9))\n",
      "('IP09009', 'Nugroho', datetime.date(2008, 11, 11))\n"
     ]
    }
   ],
   "source": [
    "#e Menentukan karyawan yang terakhir kali masuk (bergabung)\n",
    "\n",
    "import psycopg2\n",
    "\n",
    "conn = psycopg2.connect(database = \"kantor\", user = \"postgres\", password = \"NurulNurul\", host = \"localhost\", port = \"5432\")\n",
    "cur = conn.cursor()\n",
    "\n",
    "print(\"Sukses membuka database\")\n",
    "\n",
    "cur.execute(\"SELECT Nomor_induk, Nama, Tanggal_masuk from KARYAWAN ORDER BY Tanggal_masuk DESC LIMIT 2\")\n",
    "data = cur.fetchall()\n",
    "for user in data :\n",
    "    print(user)"
   ]
  },
  {
   "cell_type": "code",
   "execution_count": 12,
   "metadata": {},
   "outputs": [
    {
     "name": "stdout",
     "output_type": "stream",
     "text": [
      "Berhasil membuka database\n",
      "Berikut nama karyawan dengan cuti terlama beserta keterangannya :\n",
      "('Afika', 5, 'Menikah')\n"
     ]
    }
   ],
   "source": [
    "#f Menentukan karyawan yang paling banyak cuti beserta keterangannya\n",
    "\n",
    "import psycopg2\n",
    "\n",
    "conn = psycopg2.connect(database = \"kantor\", user = \"postgres\", password = \"NurulNurul\", host = \"localhost\", port = \"5432\")\n",
    "cur = conn.cursor()\n",
    "\n",
    "print(\"Berhasil membuka database\")\n",
    "\n",
    "cur.execute('''\n",
    "SELECT NK.Nama, c.MAX, Cuti_Karyawan.Keterangan\n",
    "FROM\n",
    "    (SELECT MAX(Lama_cuti) as MAX\n",
    "    FROM Cuti_Karyawan) c\n",
    "JOIN Cuti_Karyawan on c.MAX = Cuti_Karyawan.Lama_cuti\n",
    "JOIN KARYAWAN NK on Cuti_Karyawan.Nomor_induk = NK.Nomor_induk\n",
    "''')\n",
    "\n",
    "print(\"Berikut nama karyawan dengan cuti terlama beserta keterangannya :\")\n",
    "data = cur.fetchall()\n",
    "for user in data :\n",
    "    print(user)"
   ]
  },
  {
   "cell_type": "code",
   "execution_count": 17,
   "metadata": {},
   "outputs": [
    {
     "name": "stdout",
     "output_type": "stream",
     "text": [
      "Berhasil membuka database\n",
      "('Agus',)\n"
     ]
    }
   ],
   "source": [
    "#g Menentukan nama karyawan yang memiliki umur paling tua\n",
    "\n",
    "import psycopg2\n",
    "\n",
    "conn = psycopg2.connect(database = \"kantor\", user = \"postgres\", password = \"NurulNurul\", host = \"localhost\", port = \"5432\")\n",
    "cur = conn.cursor()\n",
    "\n",
    "print(\"Berhasil membuka database\")\n",
    "\n",
    "cur.execute(\"SELECT Nama FROM Karyawan ORDER BY Tanggal_lahir ASC LIMIT 1\")\n",
    "\n",
    "data = cur.fetchall()\n",
    "for user in data :\n",
    "    print(user)"
   ]
  },
  {
   "cell_type": "code",
   "execution_count": 18,
   "metadata": {},
   "outputs": [
    {
     "name": "stdout",
     "output_type": "stream",
     "text": [
      "Berhasil membuka database\n",
      "('Raisa',)\n"
     ]
    }
   ],
   "source": [
    "#h Menentukan nama karyawan yang memiliki umur paling muda\n",
    "\n",
    "import psycopg2\n",
    "\n",
    "conn = psycopg2.connect(database = \"kantor\", user = \"postgres\", password = \"NurulNurul\", host = \"localhost\", port = \"5432\")\n",
    "cur = conn.cursor()\n",
    "\n",
    "print(\"Berhasil membuka database\")\n",
    "\n",
    "cur.execute(\"SELECT Nama FROM Karyawan ORDER BY Tanggal_lahir DESC LIMIT 1\")\n",
    "\n",
    "data = cur.fetchall()\n",
    "for user in data :\n",
    "    print(user)"
   ]
  },
  {
   "cell_type": "code",
   "execution_count": 1,
   "metadata": {},
   "outputs": [
    {
     "name": "stdout",
     "output_type": "stream",
     "text": [
      "Berhasil membuka database\n",
      "Berikut nama-nama karyawan yang paling dulu masuk kerja setelah cuti :\n",
      "('Agus', datetime.date(2012, 2, 4))\n"
     ]
    }
   ],
   "source": [
    "#i Menentukan nama-nama karyawan yang paling dulu masuk kerja setelah cuti\n",
    "\n",
    "import psycopg2\n",
    "\n",
    "conn = psycopg2.connect(database = \"kantor\", user = \"postgres\", password = \"NurulNurul\", host = \"localhost\", port = \"5432\")\n",
    "cur = conn.cursor()\n",
    "\n",
    "print(\"Berhasil membuka database\")\n",
    "\n",
    "cur.execute('''\n",
    "SELECT Nama, Tanggal_mulai + Lama_cuti as Tanggal_masuk FROM Cuti_Karyawan\n",
    "JOIN Karyawan on Karyawan.Nomor_induk = Cuti_Karyawan.Nomor_induk\n",
    "ORDER BY Tanggal_masuk ASC LIMIT 1\n",
    "''')\n",
    "\n",
    "print(\"Berikut nama-nama karyawan yang paling dulu masuk kerja setelah cuti :\")\n",
    "data = cur.fetchall()\n",
    "for user in data :\n",
    "    print(user)"
   ]
  },
  {
   "cell_type": "code",
   "execution_count": 3,
   "metadata": {},
   "outputs": [
    {
     "name": "stdout",
     "output_type": "stream",
     "text": [
      "Berhasil membuka database\n",
      "Total cuti yang diambil para karyawan adalah sebanyak 13 hari\n"
     ]
    }
   ],
   "source": [
    "#j Menentukan total cuti yang diambil para karyawan\n",
    "\n",
    "import psycopg2\n",
    "\n",
    "conn = psycopg2.connect(database = \"kantor\", user = \"postgres\", password = \"NurulNurul\", host = \"localhost\", port = \"5432\")\n",
    "cur = conn.cursor()\n",
    "\n",
    "print(\"Berhasil membuka database\")\n",
    "\n",
    "cur.execute(\"SELECT SUM(Lama_cuti) FROM Cuti_Karyawan\")\n",
    "\n",
    "\n",
    "data = cur.fetchall()\n",
    "for user in data :\n",
    "    print(\"Total cuti yang diambil para karyawan adalah sebanyak\",user[0],\"hari\")"
   ]
  },
  {
   "cell_type": "code",
   "execution_count": 8,
   "metadata": {},
   "outputs": [
    {
     "name": "stdout",
     "output_type": "stream",
     "text": [
      "Berhasil membuka database\n",
      "Berikut nama-nama karyawan yang tidak mengambil cuti :\n",
      "Amin\n",
      "Maulana\n",
      "Octavanus\n",
      "Nugroho\n",
      "Raisa\n"
     ]
    }
   ],
   "source": [
    "#k Menentukan nama-nama karyawan yang tidak mengambil cuti\n",
    "\n",
    "import psycopg2\n",
    "\n",
    "conn = psycopg2.connect(database = \"kantor\", user = \"postgres\", password = \"NurulNurul\", host = \"localhost\", port = \"5432\")\n",
    "cur = conn.cursor()\n",
    "\n",
    "print(\"Berhasil membuka database\")\n",
    "\n",
    "cur.execute('''\n",
    "SELECT Nama, Nomor_induk FROM Karyawan WHERE NOT EXISTS \n",
    "    (SELECT Nomor_induk FROM Cuti_Karyawan WHERE Cuti_Karyawan.Nomor_induk = Karyawan.Nomor_induk);\n",
    "''')\n",
    "\n",
    "print(\"Berikut nama-nama karyawan yang tidak mengambil cuti :\")\n",
    "data = cur.fetchall()\n",
    "for user in data :\n",
    "    print(user[0])"
   ]
  }
 ],
 "metadata": {
  "kernelspec": {
   "display_name": "Python 3",
   "language": "python",
   "name": "python3"
  },
  "language_info": {
   "codemirror_mode": {
    "name": "ipython",
    "version": 3
   },
   "file_extension": ".py",
   "mimetype": "text/x-python",
   "name": "python",
   "nbconvert_exporter": "python",
   "pygments_lexer": "ipython3",
   "version": "3.7.4"
  }
 },
 "nbformat": 4,
 "nbformat_minor": 2
}
